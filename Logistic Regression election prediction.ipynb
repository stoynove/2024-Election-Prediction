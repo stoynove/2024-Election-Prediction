{
 "cells": [
  {
   "cell_type": "code",
   "execution_count": 1,
   "metadata": {},
   "outputs": [],
   "source": [
    "import pandas as pd\n",
    "\n",
    "census_data = pd.read_csv(r\"C:\\Users\\Emil\\Desktop\\County election prediction 2024\\PROJECT.csv\")\n",
    "X = census_data.iloc[:, 1:-1]  # All rows, all columns except the first and last\n",
    "y = census_data.iloc[:, -1]   # All rows, only last column"
   ]
  },
  {
   "cell_type": "markdown",
   "metadata": {},
   "source": [
    "K-folds cross-validation:\n"
   ]
  },
  {
   "cell_type": "code",
   "execution_count": null,
   "metadata": {},
   "outputs": [
    {
     "name": "stderr",
     "output_type": "stream",
     "text": [
      "c:\\Users\\Emil\\anaconda3\\lib\\site-packages\\sklearn\\linear_model\\_logistic.py:444: ConvergenceWarning: lbfgs failed to converge (status=1):\n",
      "STOP: TOTAL NO. of ITERATIONS REACHED LIMIT.\n",
      "\n",
      "Increase the number of iterations (max_iter) or scale the data as shown in:\n",
      "    https://scikit-learn.org/stable/modules/preprocessing.html\n",
      "Please also refer to the documentation for alternative solver options:\n",
      "    https://scikit-learn.org/stable/modules/linear_model.html#logistic-regression\n",
      "  n_iter_i = _check_optimize_result(\n",
      "c:\\Users\\Emil\\anaconda3\\lib\\site-packages\\sklearn\\linear_model\\_logistic.py:444: ConvergenceWarning: lbfgs failed to converge (status=1):\n",
      "STOP: TOTAL NO. of ITERATIONS REACHED LIMIT.\n",
      "\n",
      "Increase the number of iterations (max_iter) or scale the data as shown in:\n",
      "    https://scikit-learn.org/stable/modules/preprocessing.html\n",
      "Please also refer to the documentation for alternative solver options:\n",
      "    https://scikit-learn.org/stable/modules/linear_model.html#logistic-regression\n",
      "  n_iter_i = _check_optimize_result(\n"
     ]
    },
    {
     "name": "stdout",
     "output_type": "stream",
     "text": [
      "0.9159847446998649\n"
     ]
    },
    {
     "name": "stderr",
     "output_type": "stream",
     "text": [
      "c:\\Users\\Emil\\anaconda3\\lib\\site-packages\\sklearn\\linear_model\\_logistic.py:444: ConvergenceWarning: lbfgs failed to converge (status=1):\n",
      "STOP: TOTAL NO. of ITERATIONS REACHED LIMIT.\n",
      "\n",
      "Increase the number of iterations (max_iter) or scale the data as shown in:\n",
      "    https://scikit-learn.org/stable/modules/preprocessing.html\n",
      "Please also refer to the documentation for alternative solver options:\n",
      "    https://scikit-learn.org/stable/modules/linear_model.html#logistic-regression\n",
      "  n_iter_i = _check_optimize_result(\n"
     ]
    }
   ],
   "source": [
    "from sklearn.model_selection import cross_val_score\n",
    "\n",
    "# import the class\n",
    "from sklearn.linear_model import LogisticRegression\n",
    "\n",
    "# set the predictor and target variables\n",
    "X = census_data.iloc[:, 1:-1]\n",
    "y = census_data.iloc[:, -1] b\n",
    "\n",
    "# instantiate the model (using the default parameters)\n",
    "logreg = LogisticRegression()\n",
    "\n",
    "# fit the model with data\n",
    "logreg.fit(X, y)\n",
    "\n",
    "# test accuracy of the model using 10-fold cross-validation\n",
    "scores = cross_val_score(logreg, X, y, cv=20, scoring='roc_auc')\n",
    "print(scores.mean())"
   ]
  },
  {
   "cell_type": "code",
   "execution_count": null,
   "metadata": {},
   "outputs": [
    {
     "name": "stdout",
     "output_type": "stream",
     "text": [
      "Mean ROC AUC: 0.951 ± 0.047\n",
      "Individual fold scores:\n",
      "[0.88663446 0.9178744  0.96006441 0.98787879 0.98249158 0.98686869\n",
      " 0.98114478 0.93265993 0.96464646 0.98247891 0.97112265 0.8092148\n",
      " 0.99480857 0.99253731 0.97761194 0.93445814 0.88838417 0.99318624\n",
      " 0.96658014 0.91791045]\n"
     ]
    }
   ],
   "source": [
    "from sklearn.linear_model import LogisticRegression\n",
    "from sklearn.model_selection import cross_val_score\n",
    "from sklearn.preprocessing import StandardScaler\n",
    "from sklearn.pipeline import make_pipeline\n",
    "import pandas as pd\n",
    "\n",
    "# Load data\n",
    "\n",
    "# Set predictor and target variables\n",
    "X = census_data.iloc[:, 1:-1]  # Excludes first column (FIPS) and last column (target)\n",
    "y = census_data.iloc[:, -1]    # Target is last column ('Democrat')\n",
    "\n",
    "# Create a pipeline with scaling and logistic regression\n",
    "model = make_pipeline(\n",
    "    StandardScaler(),  # Important for logistic regression\n",
    "    LogisticRegression(\n",
    "        max_iter=1000,  # Ensure convergence\n",
    "        solver='lbfgs',  # Good default solver\n",
    "        random_state=42  # For reproducibility\n",
    "    )\n",
    ")\n",
    "\n",
    "# 20-fold cross-validation with ROC AUC scoring\n",
    "scores = cross_val_score(model, X, y, cv=20, scoring='roc_auc', n_jobs=-1)\n",
    "\n",
    "# Print results\n",
    "print(f\"Mean ROC AUC: {scores.mean():.3f} ± {scores.std():.3f}\")\n",
    "print(f\"Individual fold scores:\\n{scores}\")"
   ]
  },
  {
   "cell_type": "code",
   "execution_count": 7,
   "metadata": {},
   "outputs": [
    {
     "name": "stdout",
     "output_type": "stream",
     "text": [
      "0.9514278410319943\n"
     ]
    }
   ],
   "source": [
    "print(scores.mean())"
   ]
  },
  {
   "cell_type": "code",
   "execution_count": 9,
   "metadata": {},
   "outputs": [
    {
     "data": {
      "text/plain": [
       "array([ 2.65392210e-02, -1.12225404e-02,  1.45481973e-02,  3.04299922e-02,\n",
       "        1.36008140e-02,  9.40086710e-02,  5.76504177e-02, -1.53871948e-01,\n",
       "       -6.06068726e-03,  4.35178006e-02, -6.81300472e-02, -8.58505914e-02,\n",
       "       -1.47490943e-05, -1.10858138e-06,  3.09862506e-04, -1.95982956e-04,\n",
       "        9.13042305e-05,  2.22774683e-04,  1.01039419e-04, -2.72914948e-04,\n",
       "       -9.13510601e-05, -1.04348551e-04, -4.67561648e-05, -8.42571880e-06,\n",
       "        6.09954660e-06,  2.06810040e-06,  9.21319483e-06,  4.86416965e-05,\n",
       "        2.38968292e-05, -4.53780220e-06,  2.21585545e-05,  5.22895503e-05,\n",
       "        6.27279878e-05,  2.02652341e-02,  2.72609999e-03,  2.58779231e-03,\n",
       "       -2.12232762e-03, -2.43959437e-03, -1.04814229e-04, -1.34225165e-04,\n",
       "       -1.45164664e-04, -1.59092187e-04, -9.38441786e-06, -9.11285149e-06,\n",
       "       -3.45465689e-05, -4.17506873e-05,  5.26830690e-03, -4.60526637e-03,\n",
       "       -2.03284723e-04, -3.96588215e-04, -3.43920017e-05])"
      ]
     },
     "execution_count": 9,
     "metadata": {},
     "output_type": "execute_result"
    }
   ],
   "source": [
    "coef = logreg.coef_[0]\n",
    "coef"
   ]
  },
  {
   "cell_type": "code",
   "execution_count": null,
   "metadata": {},
   "outputs": [],
   "source": []
  }
 ],
 "metadata": {
  "kernelspec": {
   "display_name": "base",
   "language": "python",
   "name": "python3"
  },
  "language_info": {
   "codemirror_mode": {
    "name": "ipython",
    "version": 3
   },
   "file_extension": ".py",
   "mimetype": "text/x-python",
   "name": "python",
   "nbconvert_exporter": "python",
   "pygments_lexer": "ipython3",
   "version": "3.9.12"
  }
 },
 "nbformat": 4,
 "nbformat_minor": 2
}
